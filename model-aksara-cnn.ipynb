{
  "nbformat": 4,
  "nbformat_minor": 0,
  "metadata": {
    "colab": {
      "name": "model_tanpadourout.ipynb",
      "provenance": [],
      "collapsed_sections": []
    },
    "kernelspec": {
      "display_name": "Python 3",
      "name": "python3"
    },
    "language_info": {
      "name": "python"
    }
  },
  "cells": [
    {
      "cell_type": "code",
      "metadata": {
        "colab": {
          "base_uri": "https://localhost:8080/"
        },
        "id": "ygeU-AmXgCN8",
        "outputId": "b5749a9f-1a4f-44e0-cde4-906298ecd55b"
      },
      "source": [
        "import numpy as np                   # advanced math library\n",
        "import matplotlib.pyplot as plt      # MATLAB like plotting routines\n",
        "import random                        # for generating random numbers\n",
        "\n",
        "from keras.datasets import mnist     # MNIST dataset is included in Keras\n",
        "from keras.models import Sequential  # Model type to be used\n",
        "\n",
        "\n",
        "from keras.utils import np_utils                         # NumPy related tools\n",
        "import tensorflow as tf\n",
        "from tensorflow.keras import layers\n",
        "from tensorflow.keras.preprocessing.image import ImageDataGenerator\n",
        "import pandas as pd\n",
        "\n",
        "import seaborn as sns\n",
        "import matplotlib.pyplot as plt\n",
        "import matplotlib.image as img\n",
        "%matplotlib inline\n",
        "\n",
        "\n",
        "np.random.seed(2)\n",
        "\n",
        "from sklearn.model_selection import train_test_split\n",
        "from sklearn.metrics import confusion_matrix\n",
        "from sklearn.utils import shuffle\n",
        "import itertools\n",
        "\n",
        "#Setting the Theme of the data visualizer Seaborn\n",
        "sns.set(style=\"white\",context=\"notebook\",palette=\"deep\")\n",
        "\n",
        "#Tensorflow Version\n",
        "print(\"Tensorflow Version:\"+tf.version.VERSION)\n",
        "print(\"Keras Version      \"+tf.keras.__version__)"
      ],
      "execution_count": null,
      "outputs": [
        {
          "output_type": "stream",
          "name": "stdout",
          "text": [
            "Tensorflow Version:2.6.0\n",
            "Keras Version      2.6.0\n"
          ]
        }
      ]
    },
    {
      "cell_type": "markdown",
      "metadata": {
        "id": "k3Qcs70qFYYo"
      },
      "source": [
        "load and upload data"
      ]
    },
    {
      "cell_type": "code",
      "metadata": {
        "colab": {
          "base_uri": "https://localhost:8080/"
        },
        "id": "-D5U5xOm7Mqq",
        "outputId": "231175e4-c52e-42e3-c82b-9ecf9171ac15"
      },
      "source": [
        "!pip3 install pickle5\n",
        "import pickle5 as pickle\n",
        "with open('x-test.pickle', 'rb') as handle:\n",
        "  x_test = pickle.load(handle)\n",
        "with open('y-test.pickle', 'rb') as handle:\n",
        "  y_test = pickle.load(handle)\n",
        "with open('x-train.pickle', 'rb') as handle:\n",
        "  x_train = pickle.load(handle)\n",
        "with open('y-train.pickle', 'rb') as handle:\n",
        "  y_train = pickle.load(handle)\n",
        "\n",
        "print(y_test.shape, y_train.shape)"
      ],
      "execution_count": null,
      "outputs": [
        {
          "output_type": "stream",
          "name": "stdout",
          "text": [
            "Collecting pickle5\n",
            "  Downloading pickle5-0.0.11.tar.gz (132 kB)\n",
            "\u001b[K     |████████████████████████████████| 132 kB 5.2 MB/s \n",
            "\u001b[?25hBuilding wheels for collected packages: pickle5\n",
            "  Building wheel for pickle5 (setup.py) ... \u001b[?25l\u001b[?25hdone\n",
            "  Created wheel for pickle5: filename=pickle5-0.0.11-cp37-cp37m-linux_x86_64.whl size=219336 sha256=560d278850c78c5d0f640cc50314f8709de3b957d11036b3c461d2f699f29b27\n",
            "  Stored in directory: /root/.cache/pip/wheels/7e/6a/00/67136a90d6aca437d806d1d3cedf98106e840c97a3e5188198\n",
            "Successfully built pickle5\n",
            "Installing collected packages: pickle5\n",
            "Successfully installed pickle5-0.0.11\n",
            "(529,) (1564,)\n"
          ]
        }
      ]
    },
    {
      "cell_type": "markdown",
      "metadata": {
        "id": "1Ed4IpcfGCXH"
      },
      "source": [
        "shuffle data"
      ]
    },
    {
      "cell_type": "code",
      "metadata": {
        "id": "M7nUa5w0F75d"
      },
      "source": [
        "def unison_shuffled_copies_2( a , b):\n",
        "  assert len(a) == len(b)\n",
        "  p = np.random.permutation(len(a))\n",
        "  return a[p], b[p]"
      ],
      "execution_count": null,
      "outputs": []
    },
    {
      "cell_type": "code",
      "metadata": {
        "id": "5uDRDf_0GB9M"
      },
      "source": [
        "x_train , y_train = unison_shuffled_copies_2(x_train , y_train)\n",
        "x_test , y_test = unison_shuffled_copies_2(x_test , y_test)"
      ],
      "execution_count": null,
      "outputs": []
    },
    {
      "cell_type": "code",
      "metadata": {
        "id": "MAeOKXOh20R1"
      },
      "source": [
        "x_train , y_train= shuffle(x_train , y_train)\n",
        "x_test , y_test= shuffle(x_test , y_test)"
      ],
      "execution_count": null,
      "outputs": []
    },
    {
      "cell_type": "markdown",
      "metadata": {
        "id": "3oV6gsJGGuO9"
      },
      "source": [
        "preprocessing data\n",
        "-rubah bentuk dimensi data x\n",
        "-rubah data kelas menjadi one-hot"
      ]
    },
    {
      "cell_type": "code",
      "metadata": {
        "colab": {
          "base_uri": "https://localhost:8080/"
        },
        "id": "lisPnpX1GcO8",
        "outputId": "8855db4e-2ae6-4e2e-8d7d-c99d9b06a6f3"
      },
      "source": [
        "print(x_train.shape , y_train.shape)\n",
        "print(x_test.shape , y_test.shape)"
      ],
      "execution_count": null,
      "outputs": [
        {
          "output_type": "stream",
          "name": "stdout",
          "text": [
            "(1564, 1, 64, 64) (1564,)\n",
            "(529, 1, 64, 64) (529,)\n"
          ]
        }
      ]
    },
    {
      "cell_type": "code",
      "metadata": {
        "id": "1Y5BQoOUGwmF"
      },
      "source": [
        "x_train = x_train.reshape(-1,64,64,1)\n",
        "x_test = x_test.reshape(-1,64,64,1)"
      ],
      "execution_count": null,
      "outputs": []
    },
    {
      "cell_type": "code",
      "metadata": {
        "colab": {
          "base_uri": "https://localhost:8080/"
        },
        "id": "Vphj4kCj3htx",
        "outputId": "42094c28-8d2a-484c-dec7-4116ac42add3"
      },
      "source": [
        "print(y_train[0])"
      ],
      "execution_count": null,
      "outputs": [
        {
          "output_type": "stream",
          "name": "stdout",
          "text": [
            "8\n"
          ]
        }
      ]
    },
    {
      "cell_type": "code",
      "metadata": {
        "id": "QDbY87XlHOGX"
      },
      "source": [
        "y_train = tf.keras.utils.to_categorical(y_train, num_classes=23)\n",
        "y_test = tf.keras.utils.to_categorical(y_test, num_classes=23)"
      ],
      "execution_count": null,
      "outputs": []
    },
    {
      "cell_type": "code",
      "metadata": {
        "colab": {
          "base_uri": "https://localhost:8080/"
        },
        "id": "2H6tTNW5HARU",
        "outputId": "964859db-69a3-4e39-fca8-be4abb5156be"
      },
      "source": [
        "print(x_train.shape , y_train.shape)\n",
        "print(x_test.shape , y_test.shape)"
      ],
      "execution_count": null,
      "outputs": [
        {
          "output_type": "stream",
          "name": "stdout",
          "text": [
            "(1564, 64, 64, 1) (1564, 23)\n",
            "(529, 64, 64, 1) (529, 23)\n"
          ]
        }
      ]
    },
    {
      "cell_type": "code",
      "metadata": {
        "colab": {
          "base_uri": "https://localhost:8080/",
          "height": 1000
        },
        "id": "MCKA0O9zHrdp",
        "outputId": "5505b69c-cd8f-479e-a221-809421444669"
      },
      "source": [
        "for x in range(0, 1500, 80):\n",
        "  print(np.argmax(y_train[x]))\n",
        "  plt.imshow(x_train[x,:,:,0])\n",
        "  plt.show()"
      ],
      "execution_count": null,
      "outputs": [
        {
          "output_type": "stream",
          "name": "stdout",
          "text": [
            "8\n"
          ]
        },
        {
          "output_type": "display_data",
          "data": {
            "image/png": "[encoded data removed]",
            "text/plain": [
              "<Figure size 432x288 with 1 Axes>"
            ]
          },
          "metadata": {
            "needs_background": "light"
          }
        },
        {
          "output_type": "stream",
          "name": "stdout",
          "text": [
            "9\n"
          ]
        },
        {
          "output_type": "display_data",
          "data": {
            "image/png": "[encoded data removed]",
            "text/plain": [
              "<Figure size 432x288 with 1 Axes>"
            ]
          },
          "metadata": {
            "needs_background": "light"
          }
        },
        {
          "output_type": "stream",
          "name": "stdout",
          "text": [
            "10\n"
          ]
        },
        {
          "output_type": "display_data",
          "data": {
            "image/png": "[encoded data removed]",
            "text/plain": [
              "<Figure size 432x288 with 1 Axes>"
            ]
          },
          "metadata": {
            "needs_background": "light"
          }
        },
        {
          "output_type": "stream",
          "name": "stdout",
          "text": [
            "8\n"
          ]
        },
        {
          "output_type": "display_data",
          "data": {
            "image/png": "[encoded data removed]",
            "text/plain": [
              "<Figure size 432x288 with 1 Axes>"
            ]
          },
          "metadata": {
            "needs_background": "light"
          }
        },
        {
          "output_type": "stream",
          "name": "stdout",
          "text": [
            "20\n"
          ]
        },
        {
          "output_type": "display_data",
          "data": {
            "image/png": "[encoded data removed]",
            "text/plain": [
              "<Figure size 432x288 with 1 Axes>"
            ]
          },
          "metadata": {
            "needs_background": "light"
          }
        },
        {
          "output_type": "stream",
          "name": "stdout",
          "text": [
            "12\n"
          ]
        },
        {
          "output_type": "display_data",
          "data": {
            "image/png": "[encoded data removed]",
            "text/plain": [
              "<Figure size 432x288 with 1 Axes>"
            ]
          },
          "metadata": {
            "needs_background": "light"
          }
        },
        {
          "output_type": "stream",
          "name": "stdout",
          "text": [
            "4\n"
          ]
        },
        {
          "output_type": "display_data",
          "data": {
            "image/png": "[encoded data removed]",
            "text/plain": [
              "<Figure size 432x288 with 1 Axes>"
            ]
          },
          "metadata": {
            "needs_background": "light"
          }
        },
        {
          "output_type": "stream",
          "name": "stdout",
          "text": [
            "13\n"
          ]
        },
        {
          "output_type": "display_data",
          "data": {
            "image/png": "[encoded data removed]",
            "text/plain": [
              "<Figure size 432x288 with 1 Axes>"
            ]
          },
          "metadata": {
            "needs_background": "light"
          }
        },
        {
          "output_type": "stream",
          "name": "stdout",
          "text": [
            "8\n"
          ]
        },
        {
          "output_type": "display_data",
          "data": {
            "image/png": "[encoded data removed]",
            "text/plain": [
              "<Figure size 432x288 with 1 Axes>"
            ]
          },
          "metadata": {
            "needs_background": "light"
          }
        },
        {
          "output_type": "stream",
          "name": "stdout",
          "text": [
            "20\n"
          ]
        },
        {
          "output_type": "display_data",
          "data": {
            "image/png": "[encoded data removed]",
            "text/plain": [
              "<Figure size 432x288 with 1 Axes>"
            ]
          },
          "metadata": {
            "needs_background": "light"
          }
        },
        {
          "output_type": "stream",
          "name": "stdout",
          "text": [
            "5\n"
          ]
        },
        {
          "output_type": "display_data",
          "data": {
            "image/png": "[encoded data removed]",
            "text/plain": [
              "<Figure size 432x288 with 1 Axes>"
            ]
          },
          "metadata": {
            "needs_background": "light"
          }
        },
        {
          "output_type": "stream",
          "name": "stdout",
          "text": [
            "7\n"
          ]
        },
        {
          "output_type": "display_data",
          "data": {
            "image/png": "[encoded data removed]",
            "text/plain": [
              "<Figure size 432x288 with 1 Axes>"
            ]
          },
          "metadata": {
            "needs_background": "light"
          }
        },
        {
          "output_type": "stream",
          "name": "stdout",
          "text": [
            "18\n"
          ]
        },
        {
          "output_type": "display_data",
          "data": {
            "image/png": "[encoded data removed]",
            "text/plain": [
              "<Figure size 432x288 with 1 Axes>"
            ]
          },
          "metadata": {
            "needs_background": "light"
          }
        },
        {
          "output_type": "stream",
          "name": "stdout",
          "text": [
            "11\n"
          ]
        },
        {
          "output_type": "display_data",
          "data": {
            "image/png": "[encoded data removed]",
            "text/plain": [
              "<Figure size 432x288 with 1 Axes>"
            ]
          },
          "metadata": {
            "needs_background": "light"
          }
        },
        {
          "output_type": "stream",
          "name": "stdout",
          "text": [
            "4\n"
          ]
        },
        {
          "output_type": "display_data",
          "data": {
            "image/png": "[encoded data removed]",
            "text/plain": [
              "<Figure size 432x288 with 1 Axes>"
            ]
          },
          "metadata": {
            "needs_background": "light"
          }
        },
        {
          "output_type": "stream",
          "name": "stdout",
          "text": [
            "20\n"
          ]
        },
        {
          "output_type": "display_data",
          "data": {
            "image/png": "[encoded data removed]",
            "text/plain": [
              "<Figure size 432x288 with 1 Axes>"
            ]
          },
          "metadata": {
            "needs_background": "light"
          }
        },
        {
          "output_type": "stream",
          "name": "stdout",
          "text": [
            "4\n"
          ]
        },
        {
          "output_type": "display_data",
          "data": {
            "image/png": "[encoded data removed]",
            "text/plain": [
              "<Figure size 432x288 with 1 Axes>"
            ]
          },
          "metadata": {
            "needs_background": "light"
          }
        },
        {
          "output_type": "stream",
          "name": "stdout",
          "text": [
            "5\n"
          ]
        },
        {
          "output_type": "display_data",
          "data": {
            "image/png": "[encoded data removed]",
            "text/plain": [
              "<Figure size 432x288 with 1 Axes>"
            ]
          },
          "metadata": {
            "needs_background": "light"
          }
        },
        {
          "output_type": "stream",
          "name": "stdout",
          "text": [
            "16\n"
          ]
        },
        {
          "output_type": "display_data",
          "data": {
            "image/png": "[encoded data removed]",
            "text/plain": [
              "<Figure size 432x288 with 1 Axes>"
            ]
          },
          "metadata": {
            "needs_background": "light"
          }
        }
      ]
    },
    {
      "cell_type": "markdown",
      "metadata": {
        "id": "Keu1uQw4IFJb"
      },
      "source": [
        "model CNN"
      ]
    },
    {
      "cell_type": "code",
      "metadata": {
        "id": "CdadCWJwIEgk"
      },
      "source": [
        "model = tf.keras.Sequential()\n",
        "\n",
        "model.add(layers.Conv2D(filters=32, kernel_size=(5,5), padding='Same', \n",
        "                       activation=tf.nn.relu, input_shape = (64,64,1)))\n",
        "\n",
        "model.add(layers.MaxPool2D(pool_size=(2,2)))\n",
        "model.add(layers.Dropout(0.25))\n",
        "\n",
        "\n",
        "model.add(layers.Conv2D(filters=32, kernel_size=(3,3), padding='Same', \n",
        "                       activation=tf.nn.relu))\n",
        "\n",
        "model.add(layers.MaxPool2D(pool_size=(2,2),strides=(2,2)))\n",
        "model.add(layers.Dropout(0.25))\n",
        "\n",
        "model.add(layers.Flatten())\n",
        "\n",
        "model.add(layers.Dense(8192,activation=tf.nn.relu))\n",
        "model.add(layers.Dropout(0.25))\n",
        "model.add(layers.Dense(4096,activation=tf.nn.relu))\n",
        "model.add(layers.Dropout(0.25))\n",
        "model.add(layers.Dense(23,activation=tf.nn.softmax))"
      ],
      "execution_count": null,
      "outputs": []
    },
    {
      "cell_type": "code",
      "metadata": {
        "id": "gT-JEnEtIst4"
      },
      "source": [
        "optimizer = tf.keras.optimizers.Adam(learning_rate=0.0001, epsilon=1e-08, decay=0.0)"
      ],
      "execution_count": null,
      "outputs": []
    },
    {
      "cell_type": "code",
      "metadata": {
        "id": "cczOKVyXItEM"
      },
      "source": [
        "model.compile(optimizer = optimizer, loss='categorical_crossentropy', \n",
        "             metrics=[\"accuracy\"])  "
      ],
      "execution_count": null,
      "outputs": []
    },
    {
      "cell_type": "code",
      "metadata": {
        "id": "RWZe8BBzIy9s"
      },
      "source": [
        "learning_rate_reduction = tf.keras.callbacks.ReduceLROnPlateau(monitor='val_acc',\n",
        "                                           patience=3,\n",
        "                                           verbose=1,\n",
        "                                           factor=0.5,\n",
        "                                           min_lr=0.00001)\n",
        "epochs=100\n",
        "batch_size = 32"
      ],
      "execution_count": null,
      "outputs": []
    },
    {
      "cell_type": "markdown",
      "metadata": {
        "id": "pxZMSMllI4LZ"
      },
      "source": [
        "data generator"
      ]
    },
    {
      "cell_type": "code",
      "metadata": {
        "id": "RzWyd74bI5PF"
      },
      "source": [
        "datagen = ImageDataGenerator(\n",
        "        featurewise_center=False,  # set input mean to 0 over the dataset\n",
        "        samplewise_center=False,  # set each sample mean to 0\n",
        "        featurewise_std_normalization=False,  # divide inputs by std of the dataset\n",
        "        samplewise_std_normalization=False,  # divide each input by its std\n",
        "        zca_whitening=False,  # apply ZCA whitening\n",
        "        rotation_range=10,  # randomly rotate images in the range (degrees, 0 to 180)\n",
        "        zoom_range = 0.1, # Randomly zoom image \n",
        "        width_shift_range=0.0,  # randomly shift images horizontally (fraction of total width)\n",
        "        height_shift_range=0.0,  # randomly shift images vertically (fraction of total height)\n",
        "        horizontal_flip=False,  # randomly flip images\n",
        "        vertical_flip=False)  # randomly flip images\n",
        "\n",
        "datagen.fit(x_train)"
      ],
      "execution_count": null,
      "outputs": []
    },
    {
      "cell_type": "code",
      "metadata": {
        "colab": {
          "base_uri": "https://localhost:8080/"
        },
        "id": "FuLlpS2QJHa1",
        "outputId": "e1740d8e-a8ec-426d-b1b1-db4e00c84e1e"
      },
      "source": [
        "type(x_train), type(y_train), type(x_test), type(y_test)\n",
        "x_train.shape, y_train.shape, x_train.shape, y_train.shape"
      ],
      "execution_count": null,
      "outputs": [
        {
          "output_type": "execute_result",
          "data": {
            "text/plain": [
              "((1564, 64, 64, 1), (1564, 23), (1564, 64, 64, 1), (1564, 23))"
            ]
          },
          "metadata": {},
          "execution_count": 17
        }
      ]
    },
    {
      "cell_type": "markdown",
      "metadata": {
        "id": "Dks--2HeJTP2"
      },
      "source": [
        "letts trainn boiiyss and save it"
      ]
    },
    {
      "cell_type": "code",
      "metadata": {
        "colab": {
          "base_uri": "https://localhost:8080/"
        },
        "id": "38ekM6CyJTB_",
        "outputId": "cd6c03aa-82ac-4c03-d704-4349ab39a2a0"
      },
      "source": [
        "history = model.fit_generator(datagen.flow(x_train,y_train, batch_size=batch_size),\n",
        "                              epochs = epochs, validation_data = (x_test,y_test),\n",
        "                              verbose = 1, steps_per_epoch=x_train.shape[0] // batch_size\n",
        "                              , callbacks=[learning_rate_reduction])"
      ],
      "execution_count": null,
      "outputs": [
        {
          "output_type": "stream",
          "name": "stderr",
          "text": [
            "/usr/local/lib/python3.7/dist-packages/keras/engine/training.py:1972: UserWarning: `Model.fit_generator` is deprecated and will be removed in a future version. Please use `Model.fit`, which supports generators.\n",
            "  warnings.warn('`Model.fit_generator` is deprecated and '\n"
          ]
        },
        {
          "output_type": "stream",
          "name": "stdout",
          "text": [
            "Epoch 1/100\n",
            "48/48 [==============================] - 66s 1s/step - loss: 2.5515 - accuracy: 0.2604 - val_loss: 1.9032 - val_accuracy: 0.4858\n",
            "WARNING:tensorflow:Learning rate reduction is conditioned on metric `val_acc` which is not available. Available metrics are: loss,accuracy,val_loss,val_accuracy,lr\n",
            "Epoch 2/100\n",
            "48/48 [==============================] - 64s 1s/step - loss: 1.6779 - accuracy: 0.4993 - val_loss: 1.4356 - val_accuracy: 0.5822\n",
            "WARNING:tensorflow:Learning rate reduction is conditioned on metric `val_acc` which is not available. Available metrics are: loss,accuracy,val_loss,val_accuracy,lr\n",
            "Epoch 3/100\n",
            "48/48 [==============================] - 64s 1s/step - loss: 1.2440 - accuracy: 0.6116 - val_loss: 1.2559 - val_accuracy: 0.6503\n",
            "WARNING:tensorflow:Learning rate reduction is conditioned on metric `val_acc` which is not available. Available metrics are: loss,accuracy,val_loss,val_accuracy,lr\n",
            "Epoch 4/100\n",
            "48/48 [==============================] - 64s 1s/step - loss: 1.0306 - accuracy: 0.6802 - val_loss: 1.0858 - val_accuracy: 0.6919\n",
            "WARNING:tensorflow:Learning rate reduction is conditioned on metric `val_acc` which is not available. Available metrics are: loss,accuracy,val_loss,val_accuracy,lr\n",
            "Epoch 5/100\n",
            "48/48 [==============================] - 65s 1s/step - loss: 0.8122 - accuracy: 0.7330 - val_loss: 1.0091 - val_accuracy: 0.7410\n",
            "WARNING:tensorflow:Learning rate reduction is conditioned on metric `val_acc` which is not available. Available metrics are: loss,accuracy,val_loss,val_accuracy,lr\n",
            "Epoch 6/100\n",
            "48/48 [==============================] - 66s 1s/step - loss: 0.6526 - accuracy: 0.7937 - val_loss: 0.9994 - val_accuracy: 0.7675\n",
            "WARNING:tensorflow:Learning rate reduction is conditioned on metric `val_acc` which is not available. Available metrics are: loss,accuracy,val_loss,val_accuracy,lr\n",
            "Epoch 7/100\n",
            "48/48 [==============================] - 65s 1s/step - loss: 0.5470 - accuracy: 0.8336 - val_loss: 0.9266 - val_accuracy: 0.7713\n",
            "WARNING:tensorflow:Learning rate reduction is conditioned on metric `val_acc` which is not available. Available metrics are: loss,accuracy,val_loss,val_accuracy,lr\n",
            "Epoch 8/100\n",
            "48/48 [==============================] - 65s 1s/step - loss: 0.4661 - accuracy: 0.8531 - val_loss: 0.8842 - val_accuracy: 0.7807\n",
            "WARNING:tensorflow:Learning rate reduction is conditioned on metric `val_acc` which is not available. Available metrics are: loss,accuracy,val_loss,val_accuracy,lr\n",
            "Epoch 9/100\n",
            "48/48 [==============================] - 65s 1s/step - loss: 0.3955 - accuracy: 0.8747 - val_loss: 0.8769 - val_accuracy: 0.7902\n",
            "WARNING:tensorflow:Learning rate reduction is conditioned on metric `val_acc` which is not available. Available metrics are: loss,accuracy,val_loss,val_accuracy,lr\n",
            "Epoch 10/100\n",
            "48/48 [==============================] - 65s 1s/step - loss: 0.3178 - accuracy: 0.8995 - val_loss: 0.7614 - val_accuracy: 0.8261\n",
            "WARNING:tensorflow:Learning rate reduction is conditioned on metric `val_acc` which is not available. Available metrics are: loss,accuracy,val_loss,val_accuracy,lr\n",
            "Epoch 11/100\n",
            "48/48 [==============================] - 65s 1s/step - loss: 0.2860 - accuracy: 0.9027 - val_loss: 0.8181 - val_accuracy: 0.8374\n",
            "WARNING:tensorflow:Learning rate reduction is conditioned on metric `val_acc` which is not available. Available metrics are: loss,accuracy,val_loss,val_accuracy,lr\n",
            "Epoch 12/100\n",
            "48/48 [==============================] - 65s 1s/step - loss: 0.2200 - accuracy: 0.9302 - val_loss: 0.8328 - val_accuracy: 0.8544\n",
            "WARNING:tensorflow:Learning rate reduction is conditioned on metric `val_acc` which is not available. Available metrics are: loss,accuracy,val_loss,val_accuracy,lr\n",
            "Epoch 13/100\n",
            "48/48 [==============================] - 65s 1s/step - loss: 0.2113 - accuracy: 0.9321 - val_loss: 0.7804 - val_accuracy: 0.8544\n",
            "WARNING:tensorflow:Learning rate reduction is conditioned on metric `val_acc` which is not available. Available metrics are: loss,accuracy,val_loss,val_accuracy,lr\n",
            "Epoch 14/100\n",
            "48/48 [==============================] - 65s 1s/step - loss: 0.1685 - accuracy: 0.9517 - val_loss: 0.8021 - val_accuracy: 0.8582\n",
            "WARNING:tensorflow:Learning rate reduction is conditioned on metric `val_acc` which is not available. Available metrics are: loss,accuracy,val_loss,val_accuracy,lr\n",
            "Epoch 15/100\n",
            "48/48 [==============================] - 66s 1s/step - loss: 0.1164 - accuracy: 0.9615 - val_loss: 0.8912 - val_accuracy: 0.8336\n",
            "WARNING:tensorflow:Learning rate reduction is conditioned on metric `val_acc` which is not available. Available metrics are: loss,accuracy,val_loss,val_accuracy,lr\n",
            "Epoch 16/100\n",
            "48/48 [==============================] - 64s 1s/step - loss: 0.1421 - accuracy: 0.9543 - val_loss: 0.8332 - val_accuracy: 0.8601\n",
            "WARNING:tensorflow:Learning rate reduction is conditioned on metric `val_acc` which is not available. Available metrics are: loss,accuracy,val_loss,val_accuracy,lr\n",
            "Epoch 17/100\n",
            "48/48 [==============================] - 64s 1s/step - loss: 0.1078 - accuracy: 0.9602 - val_loss: 0.8402 - val_accuracy: 0.8469\n",
            "WARNING:tensorflow:Learning rate reduction is conditioned on metric `val_acc` which is not available. Available metrics are: loss,accuracy,val_loss,val_accuracy,lr\n",
            "Epoch 18/100\n",
            "48/48 [==============================] - 65s 1s/step - loss: 0.1035 - accuracy: 0.9732 - val_loss: 0.8209 - val_accuracy: 0.8507\n",
            "WARNING:tensorflow:Learning rate reduction is conditioned on metric `val_acc` which is not available. Available metrics are: loss,accuracy,val_loss,val_accuracy,lr\n",
            "Epoch 19/100\n",
            "48/48 [==============================] - 64s 1s/step - loss: 0.1306 - accuracy: 0.9530 - val_loss: 0.9251 - val_accuracy: 0.8582\n",
            "WARNING:tensorflow:Learning rate reduction is conditioned on metric `val_acc` which is not available. Available metrics are: loss,accuracy,val_loss,val_accuracy,lr\n",
            "Epoch 20/100\n",
            "48/48 [==============================] - 64s 1s/step - loss: 0.1072 - accuracy: 0.9674 - val_loss: 0.7600 - val_accuracy: 0.8696\n",
            "WARNING:tensorflow:Learning rate reduction is conditioned on metric `val_acc` which is not available. Available metrics are: loss,accuracy,val_loss,val_accuracy,lr\n",
            "Epoch 21/100\n",
            "48/48 [==============================] - 65s 1s/step - loss: 0.1002 - accuracy: 0.9688 - val_loss: 0.8441 - val_accuracy: 0.8715\n",
            "WARNING:tensorflow:Learning rate reduction is conditioned on metric `val_acc` which is not available. Available metrics are: loss,accuracy,val_loss,val_accuracy,lr\n",
            "Epoch 22/100\n",
            "48/48 [==============================] - 61s 1s/step - loss: 0.0769 - accuracy: 0.9791 - val_loss: 0.8140 - val_accuracy: 0.8639\n",
            "WARNING:tensorflow:Learning rate reduction is conditioned on metric `val_acc` which is not available. Available metrics are: loss,accuracy,val_loss,val_accuracy,lr\n",
            "Epoch 23/100\n",
            "48/48 [==============================] - 61s 1s/step - loss: 0.0504 - accuracy: 0.9876 - val_loss: 0.9169 - val_accuracy: 0.8620\n",
            "WARNING:tensorflow:Learning rate reduction is conditioned on metric `val_acc` which is not available. Available metrics are: loss,accuracy,val_loss,val_accuracy,lr\n",
            "Epoch 24/100\n",
            "48/48 [==============================] - 61s 1s/step - loss: 0.0446 - accuracy: 0.9837 - val_loss: 0.9152 - val_accuracy: 0.8715\n",
            "WARNING:tensorflow:Learning rate reduction is conditioned on metric `val_acc` which is not available. Available metrics are: loss,accuracy,val_loss,val_accuracy,lr\n",
            "Epoch 25/100\n",
            "48/48 [==============================] - 62s 1s/step - loss: 0.0848 - accuracy: 0.9745 - val_loss: 0.8862 - val_accuracy: 0.8563\n",
            "WARNING:tensorflow:Learning rate reduction is conditioned on metric `val_acc` which is not available. Available metrics are: loss,accuracy,val_loss,val_accuracy,lr\n",
            "Epoch 26/100\n",
            "48/48 [==============================] - 62s 1s/step - loss: 0.0633 - accuracy: 0.9785 - val_loss: 0.8826 - val_accuracy: 0.8979\n",
            "WARNING:tensorflow:Learning rate reduction is conditioned on metric `val_acc` which is not available. Available metrics are: loss,accuracy,val_loss,val_accuracy,lr\n",
            "Epoch 27/100\n",
            "48/48 [==============================] - 62s 1s/step - loss: 0.0527 - accuracy: 0.9830 - val_loss: 0.8250 - val_accuracy: 0.8885\n",
            "WARNING:tensorflow:Learning rate reduction is conditioned on metric `val_acc` which is not available. Available metrics are: loss,accuracy,val_loss,val_accuracy,lr\n",
            "Epoch 28/100\n",
            "48/48 [==============================] - 62s 1s/step - loss: 0.0643 - accuracy: 0.9798 - val_loss: 0.7718 - val_accuracy: 0.8752\n",
            "WARNING:tensorflow:Learning rate reduction is conditioned on metric `val_acc` which is not available. Available metrics are: loss,accuracy,val_loss,val_accuracy,lr\n",
            "Epoch 29/100\n",
            "48/48 [==============================] - 62s 1s/step - loss: 0.0605 - accuracy: 0.9785 - val_loss: 0.8521 - val_accuracy: 0.8733\n",
            "WARNING:tensorflow:Learning rate reduction is conditioned on metric `val_acc` which is not available. Available metrics are: loss,accuracy,val_loss,val_accuracy,lr\n",
            "Epoch 30/100\n",
            "48/48 [==============================] - 65s 1s/step - loss: 0.0461 - accuracy: 0.9850 - val_loss: 0.8101 - val_accuracy: 0.8809\n",
            "WARNING:tensorflow:Learning rate reduction is conditioned on metric `val_acc` which is not available. Available metrics are: loss,accuracy,val_loss,val_accuracy,lr\n",
            "Epoch 31/100\n",
            "48/48 [==============================] - 61s 1s/step - loss: 0.0367 - accuracy: 0.9889 - val_loss: 0.9063 - val_accuracy: 0.8733\n",
            "WARNING:tensorflow:Learning rate reduction is conditioned on metric `val_acc` which is not available. Available metrics are: loss,accuracy,val_loss,val_accuracy,lr\n",
            "Epoch 32/100\n",
            "48/48 [==============================] - 61s 1s/step - loss: 0.0368 - accuracy: 0.9856 - val_loss: 0.8752 - val_accuracy: 0.8752\n",
            "WARNING:tensorflow:Learning rate reduction is conditioned on metric `val_acc` which is not available. Available metrics are: loss,accuracy,val_loss,val_accuracy,lr\n",
            "Epoch 33/100\n",
            "48/48 [==============================] - 62s 1s/step - loss: 0.0646 - accuracy: 0.9843 - val_loss: 0.8355 - val_accuracy: 0.8677\n",
            "WARNING:tensorflow:Learning rate reduction is conditioned on metric `val_acc` which is not available. Available metrics are: loss,accuracy,val_loss,val_accuracy,lr\n",
            "Epoch 34/100\n",
            "48/48 [==============================] - 61s 1s/step - loss: 0.0452 - accuracy: 0.9876 - val_loss: 0.7899 - val_accuracy: 0.8847\n",
            "WARNING:tensorflow:Learning rate reduction is conditioned on metric `val_acc` which is not available. Available metrics are: loss,accuracy,val_loss,val_accuracy,lr\n",
            "Epoch 35/100\n",
            "48/48 [==============================] - 62s 1s/step - loss: 0.0411 - accuracy: 0.9856 - val_loss: 0.8251 - val_accuracy: 0.8752\n",
            "WARNING:tensorflow:Learning rate reduction is conditioned on metric `val_acc` which is not available. Available metrics are: loss,accuracy,val_loss,val_accuracy,lr\n",
            "Epoch 36/100\n",
            "48/48 [==============================] - 61s 1s/step - loss: 0.0493 - accuracy: 0.9869 - val_loss: 0.8296 - val_accuracy: 0.8790\n",
            "WARNING:tensorflow:Learning rate reduction is conditioned on metric `val_acc` which is not available. Available metrics are: loss,accuracy,val_loss,val_accuracy,lr\n",
            "Epoch 37/100\n",
            "48/48 [==============================] - 62s 1s/step - loss: 0.0277 - accuracy: 0.9909 - val_loss: 0.7443 - val_accuracy: 0.8904\n",
            "WARNING:tensorflow:Learning rate reduction is conditioned on metric `val_acc` which is not available. Available metrics are: loss,accuracy,val_loss,val_accuracy,lr\n",
            "Epoch 38/100\n",
            "48/48 [==============================] - 62s 1s/step - loss: 0.0198 - accuracy: 0.9954 - val_loss: 0.7995 - val_accuracy: 0.8885\n",
            "WARNING:tensorflow:Learning rate reduction is conditioned on metric `val_acc` which is not available. Available metrics are: loss,accuracy,val_loss,val_accuracy,lr\n",
            "Epoch 39/100\n",
            "48/48 [==============================] - 62s 1s/step - loss: 0.0308 - accuracy: 0.9909 - val_loss: 0.8452 - val_accuracy: 0.8828\n",
            "WARNING:tensorflow:Learning rate reduction is conditioned on metric `val_acc` which is not available. Available metrics are: loss,accuracy,val_loss,val_accuracy,lr\n",
            "Epoch 40/100\n",
            "48/48 [==============================] - 63s 1s/step - loss: 0.0294 - accuracy: 0.9902 - val_loss: 0.7819 - val_accuracy: 0.8922\n",
            "WARNING:tensorflow:Learning rate reduction is conditioned on metric `val_acc` which is not available. Available metrics are: loss,accuracy,val_loss,val_accuracy,lr\n",
            "Epoch 41/100\n",
            "48/48 [==============================] - 62s 1s/step - loss: 0.0151 - accuracy: 0.9961 - val_loss: 0.8136 - val_accuracy: 0.8941\n",
            "WARNING:tensorflow:Learning rate reduction is conditioned on metric `val_acc` which is not available. Available metrics are: loss,accuracy,val_loss,val_accuracy,lr\n",
            "Epoch 42/100\n",
            "48/48 [==============================] - 61s 1s/step - loss: 0.0221 - accuracy: 0.9935 - val_loss: 0.8478 - val_accuracy: 0.8866\n",
            "WARNING:tensorflow:Learning rate reduction is conditioned on metric `val_acc` which is not available. Available metrics are: loss,accuracy,val_loss,val_accuracy,lr\n",
            "Epoch 43/100\n",
            "48/48 [==============================] - 61s 1s/step - loss: 0.0151 - accuracy: 0.9954 - val_loss: 0.8703 - val_accuracy: 0.8828\n",
            "WARNING:tensorflow:Learning rate reduction is conditioned on metric `val_acc` which is not available. Available metrics are: loss,accuracy,val_loss,val_accuracy,lr\n",
            "Epoch 44/100\n",
            "48/48 [==============================] - 61s 1s/step - loss: 0.0213 - accuracy: 0.9941 - val_loss: 0.8772 - val_accuracy: 0.8658\n",
            "WARNING:tensorflow:Learning rate reduction is conditioned on metric `val_acc` which is not available. Available metrics are: loss,accuracy,val_loss,val_accuracy,lr\n",
            "Epoch 45/100\n",
            "48/48 [==============================] - 61s 1s/step - loss: 0.0431 - accuracy: 0.9876 - val_loss: 0.8557 - val_accuracy: 0.8752\n",
            "WARNING:tensorflow:Learning rate reduction is conditioned on metric `val_acc` which is not available. Available metrics are: loss,accuracy,val_loss,val_accuracy,lr\n",
            "Epoch 46/100\n",
            "48/48 [==============================] - 61s 1s/step - loss: 0.0467 - accuracy: 0.9843 - val_loss: 0.8746 - val_accuracy: 0.8790\n",
            "WARNING:tensorflow:Learning rate reduction is conditioned on metric `val_acc` which is not available. Available metrics are: loss,accuracy,val_loss,val_accuracy,lr\n",
            "Epoch 47/100\n",
            "48/48 [==============================] - 61s 1s/step - loss: 0.0338 - accuracy: 0.9928 - val_loss: 0.7749 - val_accuracy: 0.8904\n",
            "WARNING:tensorflow:Learning rate reduction is conditioned on metric `val_acc` which is not available. Available metrics are: loss,accuracy,val_loss,val_accuracy,lr\n",
            "Epoch 48/100\n",
            "48/48 [==============================] - 61s 1s/step - loss: 0.0303 - accuracy: 0.9902 - val_loss: 0.7344 - val_accuracy: 0.8922\n",
            "WARNING:tensorflow:Learning rate reduction is conditioned on metric `val_acc` which is not available. Available metrics are: loss,accuracy,val_loss,val_accuracy,lr\n",
            "Epoch 49/100\n",
            "48/48 [==============================] - 62s 1s/step - loss: 0.0391 - accuracy: 0.9896 - val_loss: 0.8429 - val_accuracy: 0.8998\n",
            "WARNING:tensorflow:Learning rate reduction is conditioned on metric `val_acc` which is not available. Available metrics are: loss,accuracy,val_loss,val_accuracy,lr\n",
            "Epoch 50/100\n",
            "48/48 [==============================] - 62s 1s/step - loss: 0.0198 - accuracy: 0.9961 - val_loss: 0.8161 - val_accuracy: 0.8771\n",
            "WARNING:tensorflow:Learning rate reduction is conditioned on metric `val_acc` which is not available. Available metrics are: loss,accuracy,val_loss,val_accuracy,lr\n",
            "Epoch 51/100\n",
            "48/48 [==============================] - 62s 1s/step - loss: 0.0214 - accuracy: 0.9935 - val_loss: 0.7456 - val_accuracy: 0.9017\n",
            "WARNING:tensorflow:Learning rate reduction is conditioned on metric `val_acc` which is not available. Available metrics are: loss,accuracy,val_loss,val_accuracy,lr\n",
            "Epoch 52/100\n",
            "48/48 [==============================] - 61s 1s/step - loss: 0.0180 - accuracy: 0.9941 - val_loss: 0.7864 - val_accuracy: 0.8979\n",
            "WARNING:tensorflow:Learning rate reduction is conditioned on metric `val_acc` which is not available. Available metrics are: loss,accuracy,val_loss,val_accuracy,lr\n",
            "Epoch 53/100\n",
            "48/48 [==============================] - 62s 1s/step - loss: 0.0224 - accuracy: 0.9948 - val_loss: 0.7817 - val_accuracy: 0.8998\n",
            "WARNING:tensorflow:Learning rate reduction is conditioned on metric `val_acc` which is not available. Available metrics are: loss,accuracy,val_loss,val_accuracy,lr\n",
            "Epoch 54/100\n",
            "48/48 [==============================] - 63s 1s/step - loss: 0.0231 - accuracy: 0.9915 - val_loss: 0.7474 - val_accuracy: 0.8960\n",
            "WARNING:tensorflow:Learning rate reduction is conditioned on metric `val_acc` which is not available. Available metrics are: loss,accuracy,val_loss,val_accuracy,lr\n",
            "Epoch 55/100\n",
            "48/48 [==============================] - 63s 1s/step - loss: 0.0227 - accuracy: 0.9928 - val_loss: 0.7791 - val_accuracy: 0.8828\n",
            "WARNING:tensorflow:Learning rate reduction is conditioned on metric `val_acc` which is not available. Available metrics are: loss,accuracy,val_loss,val_accuracy,lr\n",
            "Epoch 56/100\n",
            "48/48 [==============================] - 62s 1s/step - loss: 0.0205 - accuracy: 0.9948 - val_loss: 0.8136 - val_accuracy: 0.8790\n",
            "WARNING:tensorflow:Learning rate reduction is conditioned on metric `val_acc` which is not available. Available metrics are: loss,accuracy,val_loss,val_accuracy,lr\n",
            "Epoch 57/100\n",
            "48/48 [==============================] - 62s 1s/step - loss: 0.0282 - accuracy: 0.9909 - val_loss: 0.7649 - val_accuracy: 0.8922\n",
            "WARNING:tensorflow:Learning rate reduction is conditioned on metric `val_acc` which is not available. Available metrics are: loss,accuracy,val_loss,val_accuracy,lr\n",
            "Epoch 58/100\n",
            "48/48 [==============================] - 62s 1s/step - loss: 0.0351 - accuracy: 0.9889 - val_loss: 0.7130 - val_accuracy: 0.8922\n",
            "WARNING:tensorflow:Learning rate reduction is conditioned on metric `val_acc` which is not available. Available metrics are: loss,accuracy,val_loss,val_accuracy,lr\n",
            "Epoch 59/100\n",
            "48/48 [==============================] - 61s 1s/step - loss: 0.0173 - accuracy: 0.9948 - val_loss: 0.7480 - val_accuracy: 0.8904\n",
            "WARNING:tensorflow:Learning rate reduction is conditioned on metric `val_acc` which is not available. Available metrics are: loss,accuracy,val_loss,val_accuracy,lr\n",
            "Epoch 60/100\n",
            "48/48 [==============================] - 62s 1s/step - loss: 0.0139 - accuracy: 0.9961 - val_loss: 0.8040 - val_accuracy: 0.8922\n",
            "WARNING:tensorflow:Learning rate reduction is conditioned on metric `val_acc` which is not available. Available metrics are: loss,accuracy,val_loss,val_accuracy,lr\n",
            "Epoch 61/100\n",
            "48/48 [==============================] - 62s 1s/step - loss: 0.0230 - accuracy: 0.9915 - val_loss: 0.8364 - val_accuracy: 0.8922\n",
            "WARNING:tensorflow:Learning rate reduction is conditioned on metric `val_acc` which is not available. Available metrics are: loss,accuracy,val_loss,val_accuracy,lr\n",
            "Epoch 62/100\n",
            "48/48 [==============================] - 63s 1s/step - loss: 0.0203 - accuracy: 0.9935 - val_loss: 0.8672 - val_accuracy: 0.8658\n",
            "WARNING:tensorflow:Learning rate reduction is conditioned on metric `val_acc` which is not available. Available metrics are: loss,accuracy,val_loss,val_accuracy,lr\n",
            "Epoch 63/100\n",
            "48/48 [==============================] - 62s 1s/step - loss: 0.0166 - accuracy: 0.9948 - val_loss: 0.8894 - val_accuracy: 0.8960\n",
            "WARNING:tensorflow:Learning rate reduction is conditioned on metric `val_acc` which is not available. Available metrics are: loss,accuracy,val_loss,val_accuracy,lr\n",
            "Epoch 64/100\n",
            "48/48 [==============================] - 62s 1s/step - loss: 0.0180 - accuracy: 0.9935 - val_loss: 0.8315 - val_accuracy: 0.9074\n",
            "WARNING:tensorflow:Learning rate reduction is conditioned on metric `val_acc` which is not available. Available metrics are: loss,accuracy,val_loss,val_accuracy,lr\n",
            "Epoch 65/100\n",
            "48/48 [==============================] - 63s 1s/step - loss: 0.0433 - accuracy: 0.9863 - val_loss: 0.8521 - val_accuracy: 0.8828\n",
            "WARNING:tensorflow:Learning rate reduction is conditioned on metric `val_acc` which is not available. Available metrics are: loss,accuracy,val_loss,val_accuracy,lr\n",
            "Epoch 66/100\n",
            "48/48 [==============================] - 62s 1s/step - loss: 0.0270 - accuracy: 0.9935 - val_loss: 0.8208 - val_accuracy: 0.8752\n",
            "WARNING:tensorflow:Learning rate reduction is conditioned on metric `val_acc` which is not available. Available metrics are: loss,accuracy,val_loss,val_accuracy,lr\n",
            "Epoch 67/100\n",
            "48/48 [==============================] - 63s 1s/step - loss: 0.0119 - accuracy: 0.9974 - val_loss: 0.7909 - val_accuracy: 0.8922\n",
            "WARNING:tensorflow:Learning rate reduction is conditioned on metric `val_acc` which is not available. Available metrics are: loss,accuracy,val_loss,val_accuracy,lr\n",
            "Epoch 68/100\n",
            "48/48 [==============================] - 63s 1s/step - loss: 0.0074 - accuracy: 0.9987 - val_loss: 0.8205 - val_accuracy: 0.8998\n",
            "WARNING:tensorflow:Learning rate reduction is conditioned on metric `val_acc` which is not available. Available metrics are: loss,accuracy,val_loss,val_accuracy,lr\n",
            "Epoch 69/100\n",
            "48/48 [==============================] - 62s 1s/step - loss: 0.0109 - accuracy: 0.9961 - val_loss: 0.8290 - val_accuracy: 0.8941\n",
            "WARNING:tensorflow:Learning rate reduction is conditioned on metric `val_acc` which is not available. Available metrics are: loss,accuracy,val_loss,val_accuracy,lr\n",
            "Epoch 70/100\n",
            "48/48 [==============================] - 63s 1s/step - loss: 0.0185 - accuracy: 0.9928 - val_loss: 0.9256 - val_accuracy: 0.8885\n",
            "WARNING:tensorflow:Learning rate reduction is conditioned on metric `val_acc` which is not available. Available metrics are: loss,accuracy,val_loss,val_accuracy,lr\n",
            "Epoch 71/100\n",
            "48/48 [==============================] - 61s 1s/step - loss: 0.0218 - accuracy: 0.9935 - val_loss: 0.9336 - val_accuracy: 0.8790\n",
            "WARNING:tensorflow:Learning rate reduction is conditioned on metric `val_acc` which is not available. Available metrics are: loss,accuracy,val_loss,val_accuracy,lr\n",
            "Epoch 72/100\n",
            "48/48 [==============================] - 63s 1s/step - loss: 0.0209 - accuracy: 0.9922 - val_loss: 0.7750 - val_accuracy: 0.8922\n",
            "WARNING:tensorflow:Learning rate reduction is conditioned on metric `val_acc` which is not available. Available metrics are: loss,accuracy,val_loss,val_accuracy,lr\n",
            "Epoch 73/100\n",
            "48/48 [==============================] - 62s 1s/step - loss: 0.0205 - accuracy: 0.9928 - val_loss: 0.7186 - val_accuracy: 0.9017\n",
            "WARNING:tensorflow:Learning rate reduction is conditioned on metric `val_acc` which is not available. Available metrics are: loss,accuracy,val_loss,val_accuracy,lr\n",
            "Epoch 74/100\n",
            "48/48 [==============================] - 61s 1s/step - loss: 0.0077 - accuracy: 0.9980 - val_loss: 0.7127 - val_accuracy: 0.9036\n",
            "WARNING:tensorflow:Learning rate reduction is conditioned on metric `val_acc` which is not available. Available metrics are: loss,accuracy,val_loss,val_accuracy,lr\n",
            "Epoch 75/100\n",
            "48/48 [==============================] - 63s 1s/step - loss: 0.0063 - accuracy: 0.9980 - val_loss: 0.7320 - val_accuracy: 0.9074\n",
            "WARNING:tensorflow:Learning rate reduction is conditioned on metric `val_acc` which is not available. Available metrics are: loss,accuracy,val_loss,val_accuracy,lr\n",
            "Epoch 76/100\n",
            "48/48 [==============================] - 62s 1s/step - loss: 0.0375 - accuracy: 0.9876 - val_loss: 0.7988 - val_accuracy: 0.8828\n",
            "WARNING:tensorflow:Learning rate reduction is conditioned on metric `val_acc` which is not available. Available metrics are: loss,accuracy,val_loss,val_accuracy,lr\n",
            "Epoch 77/100\n",
            "48/48 [==============================] - 61s 1s/step - loss: 0.0423 - accuracy: 0.9902 - val_loss: 0.7316 - val_accuracy: 0.9074\n",
            "WARNING:tensorflow:Learning rate reduction is conditioned on metric `val_acc` which is not available. Available metrics are: loss,accuracy,val_loss,val_accuracy,lr\n",
            "Epoch 78/100\n",
            "48/48 [==============================] - 62s 1s/step - loss: 0.0224 - accuracy: 0.9948 - val_loss: 0.7796 - val_accuracy: 0.8847\n",
            "WARNING:tensorflow:Learning rate reduction is conditioned on metric `val_acc` which is not available. Available metrics are: loss,accuracy,val_loss,val_accuracy,lr\n",
            "Epoch 79/100\n",
            "48/48 [==============================] - 63s 1s/step - loss: 0.0218 - accuracy: 0.9935 - val_loss: 0.7880 - val_accuracy: 0.8866\n",
            "WARNING:tensorflow:Learning rate reduction is conditioned on metric `val_acc` which is not available. Available metrics are: loss,accuracy,val_loss,val_accuracy,lr\n",
            "Epoch 80/100\n",
            "48/48 [==============================] - 63s 1s/step - loss: 0.0198 - accuracy: 0.9948 - val_loss: 0.7748 - val_accuracy: 0.8960\n",
            "WARNING:tensorflow:Learning rate reduction is conditioned on metric `val_acc` which is not available. Available metrics are: loss,accuracy,val_loss,val_accuracy,lr\n",
            "Epoch 81/100\n",
            "48/48 [==============================] - 62s 1s/step - loss: 0.0129 - accuracy: 0.9961 - val_loss: 0.8112 - val_accuracy: 0.8885\n",
            "WARNING:tensorflow:Learning rate reduction is conditioned on metric `val_acc` which is not available. Available metrics are: loss,accuracy,val_loss,val_accuracy,lr\n",
            "Epoch 82/100\n",
            "48/48 [==============================] - 61s 1s/step - loss: 0.0062 - accuracy: 0.9987 - val_loss: 0.8199 - val_accuracy: 0.8771\n",
            "WARNING:tensorflow:Learning rate reduction is conditioned on metric `val_acc` which is not available. Available metrics are: loss,accuracy,val_loss,val_accuracy,lr\n",
            "Epoch 83/100\n",
            "48/48 [==============================] - 61s 1s/step - loss: 0.0095 - accuracy: 0.9967 - val_loss: 0.7898 - val_accuracy: 0.8885\n",
            "WARNING:tensorflow:Learning rate reduction is conditioned on metric `val_acc` which is not available. Available metrics are: loss,accuracy,val_loss,val_accuracy,lr\n",
            "Epoch 84/100\n",
            "48/48 [==============================] - 61s 1s/step - loss: 0.0165 - accuracy: 0.9948 - val_loss: 0.8710 - val_accuracy: 0.8885\n",
            "WARNING:tensorflow:Learning rate reduction is conditioned on metric `val_acc` which is not available. Available metrics are: loss,accuracy,val_loss,val_accuracy,lr\n",
            "Epoch 85/100\n",
            "48/48 [==============================] - 62s 1s/step - loss: 0.0429 - accuracy: 0.9830 - val_loss: 0.7222 - val_accuracy: 0.9055\n",
            "WARNING:tensorflow:Learning rate reduction is conditioned on metric `val_acc` which is not available. Available metrics are: loss,accuracy,val_loss,val_accuracy,lr\n",
            "Epoch 86/100\n",
            "48/48 [==============================] - 61s 1s/step - loss: 0.0250 - accuracy: 0.9928 - val_loss: 0.7243 - val_accuracy: 0.8922\n",
            "WARNING:tensorflow:Learning rate reduction is conditioned on metric `val_acc` which is not available. Available metrics are: loss,accuracy,val_loss,val_accuracy,lr\n",
            "Epoch 87/100\n",
            "48/48 [==============================] - 61s 1s/step - loss: 0.0085 - accuracy: 0.9974 - val_loss: 0.7315 - val_accuracy: 0.8979\n",
            "WARNING:tensorflow:Learning rate reduction is conditioned on metric `val_acc` which is not available. Available metrics are: loss,accuracy,val_loss,val_accuracy,lr\n",
            "Epoch 88/100\n",
            "48/48 [==============================] - 62s 1s/step - loss: 0.0154 - accuracy: 0.9954 - val_loss: 0.6876 - val_accuracy: 0.9130\n",
            "WARNING:tensorflow:Learning rate reduction is conditioned on metric `val_acc` which is not available. Available metrics are: loss,accuracy,val_loss,val_accuracy,lr\n",
            "Epoch 89/100\n",
            "48/48 [==============================] - 61s 1s/step - loss: 0.0141 - accuracy: 0.9954 - val_loss: 0.7904 - val_accuracy: 0.8866\n",
            "WARNING:tensorflow:Learning rate reduction is conditioned on metric `val_acc` which is not available. Available metrics are: loss,accuracy,val_loss,val_accuracy,lr\n",
            "Epoch 90/100\n",
            "48/48 [==============================] - 62s 1s/step - loss: 0.0262 - accuracy: 0.9928 - val_loss: 0.7407 - val_accuracy: 0.8922\n",
            "WARNING:tensorflow:Learning rate reduction is conditioned on metric `val_acc` which is not available. Available metrics are: loss,accuracy,val_loss,val_accuracy,lr\n",
            "Epoch 91/100\n",
            "48/48 [==============================] - 61s 1s/step - loss: 0.0130 - accuracy: 0.9948 - val_loss: 0.7036 - val_accuracy: 0.9017\n",
            "WARNING:tensorflow:Learning rate reduction is conditioned on metric `val_acc` which is not available. Available metrics are: loss,accuracy,val_loss,val_accuracy,lr\n",
            "Epoch 92/100\n",
            "48/48 [==============================] - 62s 1s/step - loss: 0.0052 - accuracy: 0.9980 - val_loss: 0.6822 - val_accuracy: 0.9017\n",
            "WARNING:tensorflow:Learning rate reduction is conditioned on metric `val_acc` which is not available. Available metrics are: loss,accuracy,val_loss,val_accuracy,lr\n",
            "Epoch 93/100\n",
            "48/48 [==============================] - 63s 1s/step - loss: 0.0073 - accuracy: 0.9987 - val_loss: 0.7089 - val_accuracy: 0.8960\n",
            "WARNING:tensorflow:Learning rate reduction is conditioned on metric `val_acc` which is not available. Available metrics are: loss,accuracy,val_loss,val_accuracy,lr\n",
            "Epoch 94/100\n",
            "48/48 [==============================] - 62s 1s/step - loss: 0.0085 - accuracy: 0.9961 - val_loss: 0.6940 - val_accuracy: 0.9074\n",
            "WARNING:tensorflow:Learning rate reduction is conditioned on metric `val_acc` which is not available. Available metrics are: loss,accuracy,val_loss,val_accuracy,lr\n",
            "Epoch 95/100\n",
            "48/48 [==============================] - 63s 1s/step - loss: 0.0050 - accuracy: 0.9987 - val_loss: 0.7368 - val_accuracy: 0.9112\n",
            "WARNING:tensorflow:Learning rate reduction is conditioned on metric `val_acc` which is not available. Available metrics are: loss,accuracy,val_loss,val_accuracy,lr\n",
            "Epoch 96/100\n",
            "48/48 [==============================] - 63s 1s/step - loss: 0.0036 - accuracy: 0.9987 - val_loss: 0.7265 - val_accuracy: 0.9130\n",
            "WARNING:tensorflow:Learning rate reduction is conditioned on metric `val_acc` which is not available. Available metrics are: loss,accuracy,val_loss,val_accuracy,lr\n",
            "Epoch 97/100\n",
            "48/48 [==============================] - 62s 1s/step - loss: 0.0165 - accuracy: 0.9967 - val_loss: 0.8637 - val_accuracy: 0.8866\n",
            "WARNING:tensorflow:Learning rate reduction is conditioned on metric `val_acc` which is not available. Available metrics are: loss,accuracy,val_loss,val_accuracy,lr\n",
            "Epoch 98/100\n",
            "48/48 [==============================] - 62s 1s/step - loss: 0.0123 - accuracy: 0.9961 - val_loss: 0.7398 - val_accuracy: 0.8866\n",
            "WARNING:tensorflow:Learning rate reduction is conditioned on metric `val_acc` which is not available. Available metrics are: loss,accuracy,val_loss,val_accuracy,lr\n",
            "Epoch 99/100\n",
            "48/48 [==============================] - 61s 1s/step - loss: 0.0233 - accuracy: 0.9941 - val_loss: 0.7260 - val_accuracy: 0.8998\n",
            "WARNING:tensorflow:Learning rate reduction is conditioned on metric `val_acc` which is not available. Available metrics are: loss,accuracy,val_loss,val_accuracy,lr\n",
            "Epoch 100/100\n",
            "48/48 [==============================] - 62s 1s/step - loss: 0.0316 - accuracy: 0.9909 - val_loss: 0.7547 - val_accuracy: 0.8828\n",
            "WARNING:tensorflow:Learning rate reduction is conditioned on metric `val_acc` which is not available. Available metrics are: loss,accuracy,val_loss,val_accuracy,lr\n"
          ]
        }
      ]
    },
    {
      "cell_type": "code",
      "metadata": {
        "id": "UX7SfyDqJaYZ"
      },
      "source": [
        "model.save('modelaksaraadam1-3.hdf5')\n"
      ],
      "execution_count": null,
      "outputs": []
    },
    {
      "cell_type": "markdown",
      "metadata": {
        "id": "0KapH86ixgWx"
      },
      "source": [
        "load model"
      ]
    },
    {
      "cell_type": "code",
      "metadata": {
        "id": "xusHekzCxf23",
        "colab": {
          "base_uri": "https://localhost:8080/",
          "height": 320
        },
        "outputId": "dd001f15-045e-420b-dda9-55b16b7fbb69"
      },
      "source": [
        "import tensorflow.keras as keras\n",
        "model = keras.models.load_model('modelaksara1-2.hdf5')"
      ],
      "execution_count": null,
      "outputs": [
        {
          "output_type": "error",
          "ename": "OSError",
          "evalue": "ignored",
          "traceback": [
            "\u001b[0;31m---------------------------------------------------------------------------\u001b[0m",
            "\u001b[0;31mOSError\u001b[0m                                   Traceback (most recent call last)",
            "\u001b[0;32m<ipython-input-20-56f1ba6df062>\u001b[0m in \u001b[0;36m<module>\u001b[0;34m()\u001b[0m\n\u001b[1;32m      1\u001b[0m \u001b[0;32mimport\u001b[0m \u001b[0mtensorflow\u001b[0m\u001b[0;34m.\u001b[0m\u001b[0mkeras\u001b[0m \u001b[0;32mas\u001b[0m \u001b[0mkeras\u001b[0m\u001b[0;34m\u001b[0m\u001b[0;34m\u001b[0m\u001b[0m\n\u001b[0;32m----> 2\u001b[0;31m \u001b[0mmodel\u001b[0m \u001b[0;34m=\u001b[0m \u001b[0mkeras\u001b[0m\u001b[0;34m.\u001b[0m\u001b[0mmodels\u001b[0m\u001b[0;34m.\u001b[0m\u001b[0mload_model\u001b[0m\u001b[0;34m(\u001b[0m\u001b[0;34m'modelaksara1-2.hdf5'\u001b[0m\u001b[0;34m)\u001b[0m\u001b[0;34m\u001b[0m\u001b[0;34m\u001b[0m\u001b[0m\n\u001b[0m",
            "\u001b[0;32m/usr/local/lib/python3.7/dist-packages/keras/saving/save.py\u001b[0m in \u001b[0;36mload_model\u001b[0;34m(filepath, custom_objects, compile, options)\u001b[0m\n\u001b[1;32m    203\u001b[0m         \u001b[0mfilepath\u001b[0m \u001b[0;34m=\u001b[0m \u001b[0mpath_to_string\u001b[0m\u001b[0;34m(\u001b[0m\u001b[0mfilepath\u001b[0m\u001b[0;34m)\u001b[0m\u001b[0;34m\u001b[0m\u001b[0;34m\u001b[0m\u001b[0m\n\u001b[1;32m    204\u001b[0m         \u001b[0;32mif\u001b[0m \u001b[0misinstance\u001b[0m\u001b[0;34m(\u001b[0m\u001b[0mfilepath\u001b[0m\u001b[0;34m,\u001b[0m \u001b[0mstr\u001b[0m\u001b[0;34m)\u001b[0m\u001b[0;34m:\u001b[0m\u001b[0;34m\u001b[0m\u001b[0;34m\u001b[0m\u001b[0m\n\u001b[0;32m--> 205\u001b[0;31m           \u001b[0;32mreturn\u001b[0m \u001b[0msaved_model_load\u001b[0m\u001b[0;34m.\u001b[0m\u001b[0mload\u001b[0m\u001b[0;34m(\u001b[0m\u001b[0mfilepath\u001b[0m\u001b[0;34m,\u001b[0m \u001b[0mcompile\u001b[0m\u001b[0;34m,\u001b[0m \u001b[0moptions\u001b[0m\u001b[0;34m)\u001b[0m\u001b[0;34m\u001b[0m\u001b[0;34m\u001b[0m\u001b[0m\n\u001b[0m\u001b[1;32m    206\u001b[0m \u001b[0;34m\u001b[0m\u001b[0m\n\u001b[1;32m    207\u001b[0m   raise IOError(\n",
            "\u001b[0;32m/usr/local/lib/python3.7/dist-packages/keras/saving/saved_model/load.py\u001b[0m in \u001b[0;36mload\u001b[0;34m(path, compile, options)\u001b[0m\n\u001b[1;32m    106\u001b[0m   \u001b[0;31m# Look for metadata file or parse the SavedModel\u001b[0m\u001b[0;34m\u001b[0m\u001b[0;34m\u001b[0m\u001b[0;34m\u001b[0m\u001b[0m\n\u001b[1;32m    107\u001b[0m   \u001b[0mmetadata\u001b[0m \u001b[0;34m=\u001b[0m \u001b[0msaved_metadata_pb2\u001b[0m\u001b[0;34m.\u001b[0m\u001b[0mSavedMetadata\u001b[0m\u001b[0;34m(\u001b[0m\u001b[0;34m)\u001b[0m\u001b[0;34m\u001b[0m\u001b[0;34m\u001b[0m\u001b[0m\n\u001b[0;32m--> 108\u001b[0;31m   \u001b[0mmeta_graph_def\u001b[0m \u001b[0;34m=\u001b[0m \u001b[0mtf\u001b[0m\u001b[0;34m.\u001b[0m\u001b[0m__internal__\u001b[0m\u001b[0;34m.\u001b[0m\u001b[0msaved_model\u001b[0m\u001b[0;34m.\u001b[0m\u001b[0mparse_saved_model\u001b[0m\u001b[0;34m(\u001b[0m\u001b[0mpath\u001b[0m\u001b[0;34m)\u001b[0m\u001b[0;34m.\u001b[0m\u001b[0mmeta_graphs\u001b[0m\u001b[0;34m[\u001b[0m\u001b[0;36m0\u001b[0m\u001b[0;34m]\u001b[0m\u001b[0;34m\u001b[0m\u001b[0;34m\u001b[0m\u001b[0m\n\u001b[0m\u001b[1;32m    109\u001b[0m   \u001b[0mobject_graph_def\u001b[0m \u001b[0;34m=\u001b[0m \u001b[0mmeta_graph_def\u001b[0m\u001b[0;34m.\u001b[0m\u001b[0mobject_graph_def\u001b[0m\u001b[0;34m\u001b[0m\u001b[0;34m\u001b[0m\u001b[0m\n\u001b[1;32m    110\u001b[0m   \u001b[0mpath_to_metadata_pb\u001b[0m \u001b[0;34m=\u001b[0m \u001b[0mos\u001b[0m\u001b[0;34m.\u001b[0m\u001b[0mpath\u001b[0m\u001b[0;34m.\u001b[0m\u001b[0mjoin\u001b[0m\u001b[0;34m(\u001b[0m\u001b[0mpath\u001b[0m\u001b[0;34m,\u001b[0m \u001b[0mconstants\u001b[0m\u001b[0;34m.\u001b[0m\u001b[0mSAVED_METADATA_PATH\u001b[0m\u001b[0;34m)\u001b[0m\u001b[0;34m\u001b[0m\u001b[0;34m\u001b[0m\u001b[0m\n",
            "\u001b[0;32m/usr/local/lib/python3.7/dist-packages/tensorflow/python/saved_model/loader_impl.py\u001b[0m in \u001b[0;36mparse_saved_model\u001b[0;34m(export_dir)\u001b[0m\n\u001b[1;32m    119\u001b[0m         \u001b[0;34m\"SavedModel file does not exist at: %s%s{%s|%s}\"\u001b[0m \u001b[0;34m%\u001b[0m\u001b[0;34m\u001b[0m\u001b[0;34m\u001b[0m\u001b[0m\n\u001b[1;32m    120\u001b[0m         (export_dir, os.path.sep, constants.SAVED_MODEL_FILENAME_PBTXT,\n\u001b[0;32m--> 121\u001b[0;31m          constants.SAVED_MODEL_FILENAME_PB))\n\u001b[0m\u001b[1;32m    122\u001b[0m \u001b[0;34m\u001b[0m\u001b[0m\n\u001b[1;32m    123\u001b[0m \u001b[0;34m\u001b[0m\u001b[0m\n",
            "\u001b[0;31mOSError\u001b[0m: SavedModel file does not exist at: modelaksara1-2.hdf5/{saved_model.pbtxt|saved_model.pb}"
          ]
        }
      ]
    },
    {
      "cell_type": "code",
      "metadata": {
        "id": "_K4gRaFWyEo9"
      },
      "source": [
        "import cv2\n",
        "img = cv2.imread('download3.png')\n",
        "img = cv2.cvtColor(img, cv2.COLOR_BGR2GRAY)\n",
        "img = cv2.resize(img, (32,32), interpolation = cv2.INTER_AREA)\n",
        "img = img.reshape(1,32,32,1)\n",
        "print(img.shape)"
      ],
      "execution_count": null,
      "outputs": []
    },
    {
      "cell_type": "code",
      "metadata": {
        "id": "5q_U3isKyPTn"
      },
      "source": [
        "print(np.argmax(model.predict(img)))\n",
        "g = plt.imshow(img[0,:,:,0])"
      ],
      "execution_count": null,
      "outputs": []
    },
    {
      "cell_type": "markdown",
      "metadata": {
        "id": "RuOCxWG3pjOl"
      },
      "source": [
        "confusion matrix"
      ]
    },
    {
      "cell_type": "code",
      "metadata": {
        "id": "e6QQrm6fpiyt"
      },
      "source": [
        "from sklearn.metrics import confusion_matrix\n",
        "from sklearn.metrics import plot_confusion_matrix\n",
        "from sklearn.metrics import classification_report\n",
        "labels = [\"ha/a\", \"na\", \"ca\", \"ra\", \"ka\", \"da\", \"ta\", \"sa\", \"wa\", \"la\", \"ma\", \"ga\", \"ba\", \"nga\", \"pa\", \"ja\", \"ya\", \"nya\", \"ulu\", \"suku\", \"taling\", \"tedong\", \"pepet\"]\n",
        "\n",
        "y_pred = model.predict(x_test)\n",
        "\n",
        "y_test = tf.keras.utils.to_categorical(y_test, num_classes=23)\n",
        "print(y_pred.shape, y_test.shape)\n",
        "\n",
        "y_pred = np.argmax(y_pred, axis = 1)\n",
        "y_test = np.argmax(y_test, axis = 1)\n",
        "print(\"----\")\n",
        "print(y_pred.shape, y_test.shape)\n",
        "\n",
        "#cf_matrix = confusion_matrix(y_test, y_pred)\n",
        "#sns.heatmap(cf_matrix, annot=True)\n",
        "\n",
        "print(classification_report(y_test, y_pred, target_names=labels))"
      ],
      "execution_count": null,
      "outputs": []
    }
  ]
}